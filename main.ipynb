{
 "cells": [
  {
   "cell_type": "code",
   "execution_count": 4,
   "metadata": {},
   "outputs": [],
   "source": [
    "import matplotlib.pyplot as plt\n",
    "import numpy as np\n",
    "import tensorflow as tf\n",
    "# import tensorflow_datasets as tfds\n",
    "from tensorflow.keras import layers\n",
    "import tensorflow as tf\n",
    "from tensorflow import keras\n",
    "# import tensorflow_datasets as tfds\n",
    "import matplotlib.pyplot as plt\n",
    "import numpy as np\n",
    "import os, keras\n",
    "from sklearn.preprocessing import RobustScaler,StandardScaler, LabelEncoder, OneHotEncoder\n",
    "import cv2"
   ]
  },
  {
   "cell_type": "code",
   "execution_count": 5,
   "metadata": {},
   "outputs": [],
   "source": [
    "def load_images(directory, uniq_labels):\n",
    "    images = []\n",
    "    labels = []\n",
    "    for idx, label in enumerate(uniq_labels):\n",
    "        print(label,\" is ready to load\")\n",
    "        for file in os.listdir(directory + \"/\" + label):\n",
    "            filepath = directory + \"/\" + label + \"/\" + file\n",
    "            image = cv2.resize(cv2.imread(filepath), (64, 64))\n",
    "            images.append(image)\n",
    "            labels.append(idx)\n",
    "    images = np.array(images)\n",
    "    labels = np.array(labels)\n",
    "    return(images, labels)"
   ]
  },
  {
   "cell_type": "code",
   "execution_count": 6,
   "metadata": {},
   "outputs": [
    {
     "name": "stdout",
     "output_type": "stream",
     "text": [
      "A  is ready to load\n",
      "B  is ready to load\n",
      "C  is ready to load\n",
      "D  is ready to load\n",
      "E  is ready to load\n",
      "F  is ready to load\n",
      "G  is ready to load\n",
      "H  is ready to load\n",
      "I  is ready to load\n",
      "J  is ready to load\n",
      "K  is ready to load\n",
      "L  is ready to load\n",
      "M  is ready to load\n",
      "N  is ready to load\n",
      "O  is ready to load\n",
      "P  is ready to load\n",
      "Q  is ready to load\n",
      "R  is ready to load\n",
      "S  is ready to load\n",
      "T  is ready to load\n",
      "U  is ready to load\n",
      "V  is ready to load\n",
      "W  is ready to load\n",
      "X  is ready to load\n",
      "Y  is ready to load\n",
      "Z  is ready to load\n",
      "del  is ready to load\n",
      "nothing  is ready to load\n",
      "space  is ready to load\n",
      "Data has been loaded\n"
     ]
    }
   ],
   "source": [
    "train_dir = \"sl_alphabet/asl_alphabet_train/asl_alphabet_train\"\n",
    "\n",
    "uniq_labels = sorted(os.listdir(train_dir))\n",
    "# print(uniq_labels)\n",
    "images, labels = load_images(directory = train_dir, uniq_labels =uniq_labels)\n",
    "print(\"Data has been loaded\")"
   ]
  },
  {
   "cell_type": "code",
   "execution_count": 8,
   "metadata": {},
   "outputs": [
    {
     "name": "stdout",
     "output_type": "stream",
     "text": [
      "(87000, 64, 64, 3)\n"
     ]
    }
   ],
   "source": [
    "# print(images)\n",
    "# print(labels.size)\n",
    "print(images.shape)"
   ]
  },
  {
   "cell_type": "code",
   "execution_count": 9,
   "metadata": {},
   "outputs": [
    {
     "name": "stdout",
     "output_type": "stream",
     "text": [
      "Found 87000 files belonging to 29 classes.\n",
      "Using 69600 files for training.\n",
      "Found 87000 files belonging to 29 classes.\n",
      "Using 17400 files for validation.\n"
     ]
    }
   ],
   "source": [
    "IMG_SIZE = (64, 64)\n",
    "SIZE = 64\n",
    "BATCH_SIZE = 128\n",
    "\n",
    "train_ds = tf.keras.preprocessing.image_dataset_from_directory(\n",
    "    train_dir,\n",
    "    validation_split=0.2,  # Reserve 20% of the data for validation\n",
    "    subset=\"training\",     # This indicates that we're creating the training subset\n",
    "    seed=123,              # Random seed for shuffling and splitting\n",
    "    image_size=IMG_SIZE, # Resize images to 256x256\n",
    "    batch_size=BATCH_SIZE,   # Number of images per batch\n",
    "    color_mode='rgb',\n",
    "    label_mode='categorical'\n",
    ")\n",
    "\n",
    "# Load validation dataset with validation split\n",
    "val_ds = tf.keras.preprocessing.image_dataset_from_directory(\n",
    "    train_dir,\n",
    "    validation_split=0.2,  # Reserve 20% of the data for validation\n",
    "    subset=\"validation\",   # This indicates that we're creating the validation subset\n",
    "    seed=123,              # Random seed for shuffling and splitting (must be the same as for training)\n",
    "    image_size=IMG_SIZE, # Resize images to 256x256\n",
    "    batch_size=BATCH_SIZE,          # Number of images per batch\n",
    "    color_mode='rgb',\n",
    "    label_mode='categorical'\n",
    ")\n"
   ]
  },
  {
   "cell_type": "code",
   "execution_count": 10,
   "metadata": {},
   "outputs": [
    {
     "name": "stdout",
     "output_type": "stream",
     "text": [
      "Found 28 files belonging to 1 classes.\n"
     ]
    }
   ],
   "source": [
    "test_dir = 'sl_alphabet/asl_alphabet_test'\n",
    "test_ds = tf.keras.preprocessing.image_dataset_from_directory(\n",
    "    test_dir,  \n",
    "    seed=123,     \n",
    "    batch_size=BATCH_SIZE,        \n",
    "    image_size=IMG_SIZE,         \n",
    "    color_mode='rgb',\n",
    "    label_mode='categorical',\n",
    "    shuffle = False\n",
    ")\n"
   ]
  },
  {
   "cell_type": "code",
   "execution_count": 11,
   "metadata": {},
   "outputs": [
    {
     "name": "stdout",
     "output_type": "stream",
     "text": [
      "(128, 64, 64, 3)\n",
      "tf.Tensor(\n",
      "[0. 0. 0. 0. 0. 0. 1. 0. 0. 0. 0. 0. 0. 0. 0. 0. 0. 0. 0. 0. 0. 0. 0. 0.\n",
      " 0. 0. 0. 0. 0.], shape=(29,), dtype=float32)\n"
     ]
    }
   ],
   "source": [
    "data = train_ds.take(1)\n",
    "for x , y in data:\n",
    "    print(x.shape)\n",
    "    print(y[10])\n",
    "# print(x)\n",
    "# print(y)"
   ]
  },
  {
   "cell_type": "code",
   "execution_count": 19,
   "metadata": {},
   "outputs": [],
   "source": [
    "resize_and_rescale = tf.keras.Sequential([\n",
    "  layers.Resizing(SIZE, SIZE),\n",
    "  layers.Rescaling(1./255)\n",
    "])"
   ]
  },
  {
   "cell_type": "code",
   "execution_count": 56,
   "metadata": {},
   "outputs": [
    {
     "data": {
      "text/html": [
       "<pre style=\"white-space:pre;overflow-x:auto;line-height:normal;font-family:Menlo,'DejaVu Sans Mono',consolas,'Courier New',monospace\"><span style=\"font-weight: bold\">Model: \"sequential_13\"</span>\n",
       "</pre>\n"
      ],
      "text/plain": [
       "\u001b[1mModel: \"sequential_13\"\u001b[0m\n"
      ]
     },
     "metadata": {},
     "output_type": "display_data"
    },
    {
     "data": {
      "text/html": [
       "<pre style=\"white-space:pre;overflow-x:auto;line-height:normal;font-family:Menlo,'DejaVu Sans Mono',consolas,'Courier New',monospace\">┏━━━━━━━━━━━━━━━━━━━━━━━━━━━━━━━━━┳━━━━━━━━━━━━━━━━━━━━━━━━┳━━━━━━━━━━━━━━━┓\n",
       "┃<span style=\"font-weight: bold\"> Layer (type)                    </span>┃<span style=\"font-weight: bold\"> Output Shape           </span>┃<span style=\"font-weight: bold\">       Param # </span>┃\n",
       "┡━━━━━━━━━━━━━━━━━━━━━━━━━━━━━━━━━╇━━━━━━━━━━━━━━━━━━━━━━━━╇━━━━━━━━━━━━━━━┩\n",
       "│ conv2d_16 (<span style=\"color: #0087ff; text-decoration-color: #0087ff\">Conv2D</span>)              │ (<span style=\"color: #00d7ff; text-decoration-color: #00d7ff\">None</span>, <span style=\"color: #00af00; text-decoration-color: #00af00\">62</span>, <span style=\"color: #00af00; text-decoration-color: #00af00\">62</span>, <span style=\"color: #00af00; text-decoration-color: #00af00\">64</span>)     │         <span style=\"color: #00af00; text-decoration-color: #00af00\">1,792</span> │\n",
       "├─────────────────────────────────┼────────────────────────┼───────────────┤\n",
       "│ max_pooling2d_13 (<span style=\"color: #0087ff; text-decoration-color: #0087ff\">MaxPooling2D</span>) │ (<span style=\"color: #00d7ff; text-decoration-color: #00d7ff\">None</span>, <span style=\"color: #00af00; text-decoration-color: #00af00\">31</span>, <span style=\"color: #00af00; text-decoration-color: #00af00\">31</span>, <span style=\"color: #00af00; text-decoration-color: #00af00\">64</span>)     │             <span style=\"color: #00af00; text-decoration-color: #00af00\">0</span> │\n",
       "├─────────────────────────────────┼────────────────────────┼───────────────┤\n",
       "│ conv2d_17 (<span style=\"color: #0087ff; text-decoration-color: #0087ff\">Conv2D</span>)              │ (<span style=\"color: #00d7ff; text-decoration-color: #00d7ff\">None</span>, <span style=\"color: #00af00; text-decoration-color: #00af00\">29</span>, <span style=\"color: #00af00; text-decoration-color: #00af00\">29</span>, <span style=\"color: #00af00; text-decoration-color: #00af00\">32</span>)     │        <span style=\"color: #00af00; text-decoration-color: #00af00\">18,464</span> │\n",
       "├─────────────────────────────────┼────────────────────────┼───────────────┤\n",
       "│ max_pooling2d_14 (<span style=\"color: #0087ff; text-decoration-color: #0087ff\">MaxPooling2D</span>) │ (<span style=\"color: #00d7ff; text-decoration-color: #00d7ff\">None</span>, <span style=\"color: #00af00; text-decoration-color: #00af00\">14</span>, <span style=\"color: #00af00; text-decoration-color: #00af00\">14</span>, <span style=\"color: #00af00; text-decoration-color: #00af00\">32</span>)     │             <span style=\"color: #00af00; text-decoration-color: #00af00\">0</span> │\n",
       "├─────────────────────────────────┼────────────────────────┼───────────────┤\n",
       "│ conv2d_18 (<span style=\"color: #0087ff; text-decoration-color: #0087ff\">Conv2D</span>)              │ (<span style=\"color: #00d7ff; text-decoration-color: #00d7ff\">None</span>, <span style=\"color: #00af00; text-decoration-color: #00af00\">12</span>, <span style=\"color: #00af00; text-decoration-color: #00af00\">12</span>, <span style=\"color: #00af00; text-decoration-color: #00af00\">16</span>)     │         <span style=\"color: #00af00; text-decoration-color: #00af00\">4,624</span> │\n",
       "├─────────────────────────────────┼────────────────────────┼───────────────┤\n",
       "│ max_pooling2d_15 (<span style=\"color: #0087ff; text-decoration-color: #0087ff\">MaxPooling2D</span>) │ (<span style=\"color: #00d7ff; text-decoration-color: #00d7ff\">None</span>, <span style=\"color: #00af00; text-decoration-color: #00af00\">6</span>, <span style=\"color: #00af00; text-decoration-color: #00af00\">6</span>, <span style=\"color: #00af00; text-decoration-color: #00af00\">16</span>)       │             <span style=\"color: #00af00; text-decoration-color: #00af00\">0</span> │\n",
       "├─────────────────────────────────┼────────────────────────┼───────────────┤\n",
       "│ flatten_6 (<span style=\"color: #0087ff; text-decoration-color: #0087ff\">Flatten</span>)             │ (<span style=\"color: #00d7ff; text-decoration-color: #00d7ff\">None</span>, <span style=\"color: #00af00; text-decoration-color: #00af00\">576</span>)            │             <span style=\"color: #00af00; text-decoration-color: #00af00\">0</span> │\n",
       "├─────────────────────────────────┼────────────────────────┼───────────────┤\n",
       "│ dense_17 (<span style=\"color: #0087ff; text-decoration-color: #0087ff\">Dense</span>)                │ (<span style=\"color: #00d7ff; text-decoration-color: #00d7ff\">None</span>, <span style=\"color: #00af00; text-decoration-color: #00af00\">64</span>)             │        <span style=\"color: #00af00; text-decoration-color: #00af00\">36,928</span> │\n",
       "├─────────────────────────────────┼────────────────────────┼───────────────┤\n",
       "│ dense_18 (<span style=\"color: #0087ff; text-decoration-color: #0087ff\">Dense</span>)                │ (<span style=\"color: #00d7ff; text-decoration-color: #00d7ff\">None</span>, <span style=\"color: #00af00; text-decoration-color: #00af00\">32</span>)             │         <span style=\"color: #00af00; text-decoration-color: #00af00\">2,080</span> │\n",
       "├─────────────────────────────────┼────────────────────────┼───────────────┤\n",
       "│ dropout_4 (<span style=\"color: #0087ff; text-decoration-color: #0087ff\">Dropout</span>)             │ (<span style=\"color: #00d7ff; text-decoration-color: #00d7ff\">None</span>, <span style=\"color: #00af00; text-decoration-color: #00af00\">32</span>)             │             <span style=\"color: #00af00; text-decoration-color: #00af00\">0</span> │\n",
       "├─────────────────────────────────┼────────────────────────┼───────────────┤\n",
       "│ dense_19 (<span style=\"color: #0087ff; text-decoration-color: #0087ff\">Dense</span>)                │ (<span style=\"color: #00d7ff; text-decoration-color: #00d7ff\">None</span>, <span style=\"color: #00af00; text-decoration-color: #00af00\">29</span>)             │           <span style=\"color: #00af00; text-decoration-color: #00af00\">957</span> │\n",
       "└─────────────────────────────────┴────────────────────────┴───────────────┘\n",
       "</pre>\n"
      ],
      "text/plain": [
       "┏━━━━━━━━━━━━━━━━━━━━━━━━━━━━━━━━━┳━━━━━━━━━━━━━━━━━━━━━━━━┳━━━━━━━━━━━━━━━┓\n",
       "┃\u001b[1m \u001b[0m\u001b[1mLayer (type)                   \u001b[0m\u001b[1m \u001b[0m┃\u001b[1m \u001b[0m\u001b[1mOutput Shape          \u001b[0m\u001b[1m \u001b[0m┃\u001b[1m \u001b[0m\u001b[1m      Param #\u001b[0m\u001b[1m \u001b[0m┃\n",
       "┡━━━━━━━━━━━━━━━━━━━━━━━━━━━━━━━━━╇━━━━━━━━━━━━━━━━━━━━━━━━╇━━━━━━━━━━━━━━━┩\n",
       "│ conv2d_16 (\u001b[38;5;33mConv2D\u001b[0m)              │ (\u001b[38;5;45mNone\u001b[0m, \u001b[38;5;34m62\u001b[0m, \u001b[38;5;34m62\u001b[0m, \u001b[38;5;34m64\u001b[0m)     │         \u001b[38;5;34m1,792\u001b[0m │\n",
       "├─────────────────────────────────┼────────────────────────┼───────────────┤\n",
       "│ max_pooling2d_13 (\u001b[38;5;33mMaxPooling2D\u001b[0m) │ (\u001b[38;5;45mNone\u001b[0m, \u001b[38;5;34m31\u001b[0m, \u001b[38;5;34m31\u001b[0m, \u001b[38;5;34m64\u001b[0m)     │             \u001b[38;5;34m0\u001b[0m │\n",
       "├─────────────────────────────────┼────────────────────────┼───────────────┤\n",
       "│ conv2d_17 (\u001b[38;5;33mConv2D\u001b[0m)              │ (\u001b[38;5;45mNone\u001b[0m, \u001b[38;5;34m29\u001b[0m, \u001b[38;5;34m29\u001b[0m, \u001b[38;5;34m32\u001b[0m)     │        \u001b[38;5;34m18,464\u001b[0m │\n",
       "├─────────────────────────────────┼────────────────────────┼───────────────┤\n",
       "│ max_pooling2d_14 (\u001b[38;5;33mMaxPooling2D\u001b[0m) │ (\u001b[38;5;45mNone\u001b[0m, \u001b[38;5;34m14\u001b[0m, \u001b[38;5;34m14\u001b[0m, \u001b[38;5;34m32\u001b[0m)     │             \u001b[38;5;34m0\u001b[0m │\n",
       "├─────────────────────────────────┼────────────────────────┼───────────────┤\n",
       "│ conv2d_18 (\u001b[38;5;33mConv2D\u001b[0m)              │ (\u001b[38;5;45mNone\u001b[0m, \u001b[38;5;34m12\u001b[0m, \u001b[38;5;34m12\u001b[0m, \u001b[38;5;34m16\u001b[0m)     │         \u001b[38;5;34m4,624\u001b[0m │\n",
       "├─────────────────────────────────┼────────────────────────┼───────────────┤\n",
       "│ max_pooling2d_15 (\u001b[38;5;33mMaxPooling2D\u001b[0m) │ (\u001b[38;5;45mNone\u001b[0m, \u001b[38;5;34m6\u001b[0m, \u001b[38;5;34m6\u001b[0m, \u001b[38;5;34m16\u001b[0m)       │             \u001b[38;5;34m0\u001b[0m │\n",
       "├─────────────────────────────────┼────────────────────────┼───────────────┤\n",
       "│ flatten_6 (\u001b[38;5;33mFlatten\u001b[0m)             │ (\u001b[38;5;45mNone\u001b[0m, \u001b[38;5;34m576\u001b[0m)            │             \u001b[38;5;34m0\u001b[0m │\n",
       "├─────────────────────────────────┼────────────────────────┼───────────────┤\n",
       "│ dense_17 (\u001b[38;5;33mDense\u001b[0m)                │ (\u001b[38;5;45mNone\u001b[0m, \u001b[38;5;34m64\u001b[0m)             │        \u001b[38;5;34m36,928\u001b[0m │\n",
       "├─────────────────────────────────┼────────────────────────┼───────────────┤\n",
       "│ dense_18 (\u001b[38;5;33mDense\u001b[0m)                │ (\u001b[38;5;45mNone\u001b[0m, \u001b[38;5;34m32\u001b[0m)             │         \u001b[38;5;34m2,080\u001b[0m │\n",
       "├─────────────────────────────────┼────────────────────────┼───────────────┤\n",
       "│ dropout_4 (\u001b[38;5;33mDropout\u001b[0m)             │ (\u001b[38;5;45mNone\u001b[0m, \u001b[38;5;34m32\u001b[0m)             │             \u001b[38;5;34m0\u001b[0m │\n",
       "├─────────────────────────────────┼────────────────────────┼───────────────┤\n",
       "│ dense_19 (\u001b[38;5;33mDense\u001b[0m)                │ (\u001b[38;5;45mNone\u001b[0m, \u001b[38;5;34m29\u001b[0m)             │           \u001b[38;5;34m957\u001b[0m │\n",
       "└─────────────────────────────────┴────────────────────────┴───────────────┘\n"
      ]
     },
     "metadata": {},
     "output_type": "display_data"
    },
    {
     "data": {
      "text/html": [
       "<pre style=\"white-space:pre;overflow-x:auto;line-height:normal;font-family:Menlo,'DejaVu Sans Mono',consolas,'Courier New',monospace\"><span style=\"font-weight: bold\"> Total params: </span><span style=\"color: #00af00; text-decoration-color: #00af00\">64,845</span> (253.30 KB)\n",
       "</pre>\n"
      ],
      "text/plain": [
       "\u001b[1m Total params: \u001b[0m\u001b[38;5;34m64,845\u001b[0m (253.30 KB)\n"
      ]
     },
     "metadata": {},
     "output_type": "display_data"
    },
    {
     "data": {
      "text/html": [
       "<pre style=\"white-space:pre;overflow-x:auto;line-height:normal;font-family:Menlo,'DejaVu Sans Mono',consolas,'Courier New',monospace\"><span style=\"font-weight: bold\"> Trainable params: </span><span style=\"color: #00af00; text-decoration-color: #00af00\">64,845</span> (253.30 KB)\n",
       "</pre>\n"
      ],
      "text/plain": [
       "\u001b[1m Trainable params: \u001b[0m\u001b[38;5;34m64,845\u001b[0m (253.30 KB)\n"
      ]
     },
     "metadata": {},
     "output_type": "display_data"
    },
    {
     "data": {
      "text/html": [
       "<pre style=\"white-space:pre;overflow-x:auto;line-height:normal;font-family:Menlo,'DejaVu Sans Mono',consolas,'Courier New',monospace\"><span style=\"font-weight: bold\"> Non-trainable params: </span><span style=\"color: #00af00; text-decoration-color: #00af00\">0</span> (0.00 B)\n",
       "</pre>\n"
      ],
      "text/plain": [
       "\u001b[1m Non-trainable params: \u001b[0m\u001b[38;5;34m0\u001b[0m (0.00 B)\n"
      ]
     },
     "metadata": {},
     "output_type": "display_data"
    }
   ],
   "source": [
    "model.summary()"
   ]
  },
  {
   "cell_type": "code",
   "execution_count": 27,
   "metadata": {},
   "outputs": [],
   "source": [
    "model = tf.keras.models.Sequential([\n",
    "    \n",
    "    \n",
    "    tf.keras.layers.Conv2D(filters=64, kernel_size=(3,3), activation='relu', input_shape=(SIZE,SIZE,3)),\n",
    "\t# resize_and_rescale,\n",
    "    tf.keras.layers.MaxPooling2D(pool_size=2),\n",
    "\n",
    "    tf.keras.layers.Conv2D(filters=32, kernel_size=(3,3), activation='relu'),\n",
    "\t\n",
    "    tf.keras.layers.MaxPooling2D(pool_size=2),\n",
    "\n",
    "    tf.keras.layers.Conv2D(filters=16, kernel_size=(3,3), activation='relu'),\n",
    "\n",
    "    tf.keras.layers.MaxPooling2D(pool_size=2),\n",
    "\n",
    "    tf.keras.layers.Flatten(),\n",
    "\n",
    "    tf.keras.layers.Dense(units=64, activation='relu'),\n",
    "    tf.keras.layers.Dense(units=32, activation='relu'),\n",
    "    # tf.keras.layers.Dropout(0.1),\n",
    "    tf.keras.layers.Dense(units=29, activation='softmax')\n",
    "\n",
    "\t])"
   ]
  },
  {
   "cell_type": "code",
   "execution_count": 28,
   "metadata": {},
   "outputs": [],
   "source": [
    "base_learning_rate = 0.0001\n",
    "model.compile(optimizer=tf.keras.optimizers.Adam(learning_rate=base_learning_rate),\n",
    "              loss=tf.keras.losses.CategoricalCrossentropy (),\n",
    "              metrics=['accuracy'])"
   ]
  },
  {
   "cell_type": "code",
   "execution_count": 29,
   "metadata": {},
   "outputs": [],
   "source": [
    "# model.compile(optimizer='adam',\n",
    "#               loss='categorical_crossentropy',\n",
    "#               metrics=['accuracy'])"
   ]
  },
  {
   "cell_type": "code",
   "execution_count": 30,
   "metadata": {},
   "outputs": [
    {
     "name": "stdout",
     "output_type": "stream",
     "text": [
      "Epoch 1/10\n",
      "\u001b[1m 24/544\u001b[0m \u001b[37m━━━━━━━━━━━━━━━━━━━━\u001b[0m \u001b[1m3:06\u001b[0m 359ms/step - accuracy: 0.0319 - loss: 48.8021"
     ]
    },
    {
     "ename": "KeyboardInterrupt",
     "evalue": "",
     "output_type": "error",
     "traceback": [
      "\u001b[1;31m---------------------------------------------------------------------------\u001b[0m",
      "\u001b[1;31mKeyboardInterrupt\u001b[0m                         Traceback (most recent call last)",
      "Cell \u001b[1;32mIn[30], line 1\u001b[0m\n\u001b[1;32m----> 1\u001b[0m history \u001b[38;5;241m=\u001b[39m \u001b[43mmodel\u001b[49m\u001b[38;5;241;43m.\u001b[39;49m\u001b[43mfit\u001b[49m\u001b[43m(\u001b[49m\n\u001b[0;32m      2\u001b[0m \u001b[43m  \u001b[49m\u001b[43mtrain_ds\u001b[49m\u001b[43m,\u001b[49m\n\u001b[0;32m      3\u001b[0m \u001b[43m  \u001b[49m\u001b[43mvalidation_data\u001b[49m\u001b[38;5;241;43m=\u001b[39;49m\u001b[43mval_ds\u001b[49m\u001b[43m,\u001b[49m\n\u001b[0;32m      4\u001b[0m \u001b[43m  \u001b[49m\u001b[43mepochs\u001b[49m\u001b[38;5;241;43m=\u001b[39;49m\u001b[38;5;241;43m10\u001b[39;49m\n\u001b[0;32m      5\u001b[0m \u001b[43m)\u001b[49m\n",
      "File \u001b[1;32mc:\\Anaconda\\envs\\ai\\lib\\site-packages\\keras\\src\\utils\\traceback_utils.py:117\u001b[0m, in \u001b[0;36mfilter_traceback.<locals>.error_handler\u001b[1;34m(*args, **kwargs)\u001b[0m\n\u001b[0;32m    115\u001b[0m filtered_tb \u001b[38;5;241m=\u001b[39m \u001b[38;5;28;01mNone\u001b[39;00m\n\u001b[0;32m    116\u001b[0m \u001b[38;5;28;01mtry\u001b[39;00m:\n\u001b[1;32m--> 117\u001b[0m     \u001b[38;5;28;01mreturn\u001b[39;00m fn(\u001b[38;5;241m*\u001b[39margs, \u001b[38;5;241m*\u001b[39m\u001b[38;5;241m*\u001b[39mkwargs)\n\u001b[0;32m    118\u001b[0m \u001b[38;5;28;01mexcept\u001b[39;00m \u001b[38;5;167;01mException\u001b[39;00m \u001b[38;5;28;01mas\u001b[39;00m e:\n\u001b[0;32m    119\u001b[0m     filtered_tb \u001b[38;5;241m=\u001b[39m _process_traceback_frames(e\u001b[38;5;241m.\u001b[39m__traceback__)\n",
      "File \u001b[1;32mc:\\Anaconda\\envs\\ai\\lib\\site-packages\\keras\\src\\backend\\tensorflow\\trainer.py:320\u001b[0m, in \u001b[0;36mTensorFlowTrainer.fit\u001b[1;34m(self, x, y, batch_size, epochs, verbose, callbacks, validation_split, validation_data, shuffle, class_weight, sample_weight, initial_epoch, steps_per_epoch, validation_steps, validation_batch_size, validation_freq)\u001b[0m\n\u001b[0;32m    318\u001b[0m \u001b[38;5;28;01mfor\u001b[39;00m step, iterator \u001b[38;5;129;01min\u001b[39;00m epoch_iterator\u001b[38;5;241m.\u001b[39menumerate_epoch():\n\u001b[0;32m    319\u001b[0m     callbacks\u001b[38;5;241m.\u001b[39mon_train_batch_begin(step)\n\u001b[1;32m--> 320\u001b[0m     logs \u001b[38;5;241m=\u001b[39m \u001b[38;5;28;43mself\u001b[39;49m\u001b[38;5;241;43m.\u001b[39;49m\u001b[43mtrain_function\u001b[49m\u001b[43m(\u001b[49m\u001b[43miterator\u001b[49m\u001b[43m)\u001b[49m\n\u001b[0;32m    321\u001b[0m     logs \u001b[38;5;241m=\u001b[39m \u001b[38;5;28mself\u001b[39m\u001b[38;5;241m.\u001b[39m_pythonify_logs(logs)\n\u001b[0;32m    322\u001b[0m     callbacks\u001b[38;5;241m.\u001b[39mon_train_batch_end(step, logs)\n",
      "File \u001b[1;32mc:\\Anaconda\\envs\\ai\\lib\\site-packages\\tensorflow\\python\\util\\traceback_utils.py:150\u001b[0m, in \u001b[0;36mfilter_traceback.<locals>.error_handler\u001b[1;34m(*args, **kwargs)\u001b[0m\n\u001b[0;32m    148\u001b[0m filtered_tb \u001b[38;5;241m=\u001b[39m \u001b[38;5;28;01mNone\u001b[39;00m\n\u001b[0;32m    149\u001b[0m \u001b[38;5;28;01mtry\u001b[39;00m:\n\u001b[1;32m--> 150\u001b[0m   \u001b[38;5;28;01mreturn\u001b[39;00m fn(\u001b[38;5;241m*\u001b[39margs, \u001b[38;5;241m*\u001b[39m\u001b[38;5;241m*\u001b[39mkwargs)\n\u001b[0;32m    151\u001b[0m \u001b[38;5;28;01mexcept\u001b[39;00m \u001b[38;5;167;01mException\u001b[39;00m \u001b[38;5;28;01mas\u001b[39;00m e:\n\u001b[0;32m    152\u001b[0m   filtered_tb \u001b[38;5;241m=\u001b[39m _process_traceback_frames(e\u001b[38;5;241m.\u001b[39m__traceback__)\n",
      "File \u001b[1;32mc:\\Anaconda\\envs\\ai\\lib\\site-packages\\tensorflow\\python\\eager\\polymorphic_function\\polymorphic_function.py:833\u001b[0m, in \u001b[0;36mFunction.__call__\u001b[1;34m(self, *args, **kwds)\u001b[0m\n\u001b[0;32m    830\u001b[0m compiler \u001b[38;5;241m=\u001b[39m \u001b[38;5;124m\"\u001b[39m\u001b[38;5;124mxla\u001b[39m\u001b[38;5;124m\"\u001b[39m \u001b[38;5;28;01mif\u001b[39;00m \u001b[38;5;28mself\u001b[39m\u001b[38;5;241m.\u001b[39m_jit_compile \u001b[38;5;28;01melse\u001b[39;00m \u001b[38;5;124m\"\u001b[39m\u001b[38;5;124mnonXla\u001b[39m\u001b[38;5;124m\"\u001b[39m\n\u001b[0;32m    832\u001b[0m \u001b[38;5;28;01mwith\u001b[39;00m OptionalXlaContext(\u001b[38;5;28mself\u001b[39m\u001b[38;5;241m.\u001b[39m_jit_compile):\n\u001b[1;32m--> 833\u001b[0m   result \u001b[38;5;241m=\u001b[39m \u001b[38;5;28mself\u001b[39m\u001b[38;5;241m.\u001b[39m_call(\u001b[38;5;241m*\u001b[39margs, \u001b[38;5;241m*\u001b[39m\u001b[38;5;241m*\u001b[39mkwds)\n\u001b[0;32m    835\u001b[0m new_tracing_count \u001b[38;5;241m=\u001b[39m \u001b[38;5;28mself\u001b[39m\u001b[38;5;241m.\u001b[39mexperimental_get_tracing_count()\n\u001b[0;32m    836\u001b[0m without_tracing \u001b[38;5;241m=\u001b[39m (tracing_count \u001b[38;5;241m==\u001b[39m new_tracing_count)\n",
      "File \u001b[1;32mc:\\Anaconda\\envs\\ai\\lib\\site-packages\\tensorflow\\python\\eager\\polymorphic_function\\polymorphic_function.py:878\u001b[0m, in \u001b[0;36mFunction._call\u001b[1;34m(self, *args, **kwds)\u001b[0m\n\u001b[0;32m    875\u001b[0m \u001b[38;5;28mself\u001b[39m\u001b[38;5;241m.\u001b[39m_lock\u001b[38;5;241m.\u001b[39mrelease()\n\u001b[0;32m    876\u001b[0m \u001b[38;5;66;03m# In this case we have not created variables on the first call. So we can\u001b[39;00m\n\u001b[0;32m    877\u001b[0m \u001b[38;5;66;03m# run the first trace but we should fail if variables are created.\u001b[39;00m\n\u001b[1;32m--> 878\u001b[0m results \u001b[38;5;241m=\u001b[39m \u001b[43mtracing_compilation\u001b[49m\u001b[38;5;241;43m.\u001b[39;49m\u001b[43mcall_function\u001b[49m\u001b[43m(\u001b[49m\n\u001b[0;32m    879\u001b[0m \u001b[43m    \u001b[49m\u001b[43margs\u001b[49m\u001b[43m,\u001b[49m\u001b[43m \u001b[49m\u001b[43mkwds\u001b[49m\u001b[43m,\u001b[49m\u001b[43m \u001b[49m\u001b[38;5;28;43mself\u001b[39;49m\u001b[38;5;241;43m.\u001b[39;49m\u001b[43m_variable_creation_config\u001b[49m\n\u001b[0;32m    880\u001b[0m \u001b[43m\u001b[49m\u001b[43m)\u001b[49m\n\u001b[0;32m    881\u001b[0m \u001b[38;5;28;01mif\u001b[39;00m \u001b[38;5;28mself\u001b[39m\u001b[38;5;241m.\u001b[39m_created_variables:\n\u001b[0;32m    882\u001b[0m   \u001b[38;5;28;01mraise\u001b[39;00m \u001b[38;5;167;01mValueError\u001b[39;00m(\u001b[38;5;124m\"\u001b[39m\u001b[38;5;124mCreating variables on a non-first call to a function\u001b[39m\u001b[38;5;124m\"\u001b[39m\n\u001b[0;32m    883\u001b[0m                    \u001b[38;5;124m\"\u001b[39m\u001b[38;5;124m decorated with tf.function.\u001b[39m\u001b[38;5;124m\"\u001b[39m)\n",
      "File \u001b[1;32mc:\\Anaconda\\envs\\ai\\lib\\site-packages\\tensorflow\\python\\eager\\polymorphic_function\\tracing_compilation.py:139\u001b[0m, in \u001b[0;36mcall_function\u001b[1;34m(args, kwargs, tracing_options)\u001b[0m\n\u001b[0;32m    137\u001b[0m bound_args \u001b[38;5;241m=\u001b[39m function\u001b[38;5;241m.\u001b[39mfunction_type\u001b[38;5;241m.\u001b[39mbind(\u001b[38;5;241m*\u001b[39margs, \u001b[38;5;241m*\u001b[39m\u001b[38;5;241m*\u001b[39mkwargs)\n\u001b[0;32m    138\u001b[0m flat_inputs \u001b[38;5;241m=\u001b[39m function\u001b[38;5;241m.\u001b[39mfunction_type\u001b[38;5;241m.\u001b[39munpack_inputs(bound_args)\n\u001b[1;32m--> 139\u001b[0m \u001b[38;5;28;01mreturn\u001b[39;00m \u001b[43mfunction\u001b[49m\u001b[38;5;241;43m.\u001b[39;49m\u001b[43m_call_flat\u001b[49m\u001b[43m(\u001b[49m\u001b[43m  \u001b[49m\u001b[38;5;66;43;03m# pylint: disable=protected-access\u001b[39;49;00m\n\u001b[0;32m    140\u001b[0m \u001b[43m    \u001b[49m\u001b[43mflat_inputs\u001b[49m\u001b[43m,\u001b[49m\u001b[43m \u001b[49m\u001b[43mcaptured_inputs\u001b[49m\u001b[38;5;241;43m=\u001b[39;49m\u001b[43mfunction\u001b[49m\u001b[38;5;241;43m.\u001b[39;49m\u001b[43mcaptured_inputs\u001b[49m\n\u001b[0;32m    141\u001b[0m \u001b[43m\u001b[49m\u001b[43m)\u001b[49m\n",
      "File \u001b[1;32mc:\\Anaconda\\envs\\ai\\lib\\site-packages\\tensorflow\\python\\eager\\polymorphic_function\\concrete_function.py:1322\u001b[0m, in \u001b[0;36mConcreteFunction._call_flat\u001b[1;34m(self, tensor_inputs, captured_inputs)\u001b[0m\n\u001b[0;32m   1318\u001b[0m possible_gradient_type \u001b[38;5;241m=\u001b[39m gradients_util\u001b[38;5;241m.\u001b[39mPossibleTapeGradientTypes(args)\n\u001b[0;32m   1319\u001b[0m \u001b[38;5;28;01mif\u001b[39;00m (possible_gradient_type \u001b[38;5;241m==\u001b[39m gradients_util\u001b[38;5;241m.\u001b[39mPOSSIBLE_GRADIENT_TYPES_NONE\n\u001b[0;32m   1320\u001b[0m     \u001b[38;5;129;01mand\u001b[39;00m executing_eagerly):\n\u001b[0;32m   1321\u001b[0m   \u001b[38;5;66;03m# No tape is watching; skip to running the function.\u001b[39;00m\n\u001b[1;32m-> 1322\u001b[0m   \u001b[38;5;28;01mreturn\u001b[39;00m \u001b[38;5;28;43mself\u001b[39;49m\u001b[38;5;241;43m.\u001b[39;49m\u001b[43m_inference_function\u001b[49m\u001b[38;5;241;43m.\u001b[39;49m\u001b[43mcall_preflattened\u001b[49m\u001b[43m(\u001b[49m\u001b[43margs\u001b[49m\u001b[43m)\u001b[49m\n\u001b[0;32m   1323\u001b[0m forward_backward \u001b[38;5;241m=\u001b[39m \u001b[38;5;28mself\u001b[39m\u001b[38;5;241m.\u001b[39m_select_forward_and_backward_functions(\n\u001b[0;32m   1324\u001b[0m     args,\n\u001b[0;32m   1325\u001b[0m     possible_gradient_type,\n\u001b[0;32m   1326\u001b[0m     executing_eagerly)\n\u001b[0;32m   1327\u001b[0m forward_function, args_with_tangents \u001b[38;5;241m=\u001b[39m forward_backward\u001b[38;5;241m.\u001b[39mforward()\n",
      "File \u001b[1;32mc:\\Anaconda\\envs\\ai\\lib\\site-packages\\tensorflow\\python\\eager\\polymorphic_function\\atomic_function.py:216\u001b[0m, in \u001b[0;36mAtomicFunction.call_preflattened\u001b[1;34m(self, args)\u001b[0m\n\u001b[0;32m    214\u001b[0m \u001b[38;5;28;01mdef\u001b[39;00m \u001b[38;5;21mcall_preflattened\u001b[39m(\u001b[38;5;28mself\u001b[39m, args: Sequence[core\u001b[38;5;241m.\u001b[39mTensor]) \u001b[38;5;241m-\u001b[39m\u001b[38;5;241m>\u001b[39m Any:\n\u001b[0;32m    215\u001b[0m \u001b[38;5;250m  \u001b[39m\u001b[38;5;124;03m\"\"\"Calls with flattened tensor inputs and returns the structured output.\"\"\"\u001b[39;00m\n\u001b[1;32m--> 216\u001b[0m   flat_outputs \u001b[38;5;241m=\u001b[39m \u001b[38;5;28;43mself\u001b[39;49m\u001b[38;5;241;43m.\u001b[39;49m\u001b[43mcall_flat\u001b[49m\u001b[43m(\u001b[49m\u001b[38;5;241;43m*\u001b[39;49m\u001b[43margs\u001b[49m\u001b[43m)\u001b[49m\n\u001b[0;32m    217\u001b[0m   \u001b[38;5;28;01mreturn\u001b[39;00m \u001b[38;5;28mself\u001b[39m\u001b[38;5;241m.\u001b[39mfunction_type\u001b[38;5;241m.\u001b[39mpack_output(flat_outputs)\n",
      "File \u001b[1;32mc:\\Anaconda\\envs\\ai\\lib\\site-packages\\tensorflow\\python\\eager\\polymorphic_function\\atomic_function.py:251\u001b[0m, in \u001b[0;36mAtomicFunction.call_flat\u001b[1;34m(self, *args)\u001b[0m\n\u001b[0;32m    249\u001b[0m \u001b[38;5;28;01mwith\u001b[39;00m record\u001b[38;5;241m.\u001b[39mstop_recording():\n\u001b[0;32m    250\u001b[0m   \u001b[38;5;28;01mif\u001b[39;00m \u001b[38;5;28mself\u001b[39m\u001b[38;5;241m.\u001b[39m_bound_context\u001b[38;5;241m.\u001b[39mexecuting_eagerly():\n\u001b[1;32m--> 251\u001b[0m     outputs \u001b[38;5;241m=\u001b[39m \u001b[38;5;28;43mself\u001b[39;49m\u001b[38;5;241;43m.\u001b[39;49m\u001b[43m_bound_context\u001b[49m\u001b[38;5;241;43m.\u001b[39;49m\u001b[43mcall_function\u001b[49m\u001b[43m(\u001b[49m\n\u001b[0;32m    252\u001b[0m \u001b[43m        \u001b[49m\u001b[38;5;28;43mself\u001b[39;49m\u001b[38;5;241;43m.\u001b[39;49m\u001b[43mname\u001b[49m\u001b[43m,\u001b[49m\n\u001b[0;32m    253\u001b[0m \u001b[43m        \u001b[49m\u001b[38;5;28;43mlist\u001b[39;49m\u001b[43m(\u001b[49m\u001b[43margs\u001b[49m\u001b[43m)\u001b[49m\u001b[43m,\u001b[49m\n\u001b[0;32m    254\u001b[0m \u001b[43m        \u001b[49m\u001b[38;5;28;43mlen\u001b[39;49m\u001b[43m(\u001b[49m\u001b[38;5;28;43mself\u001b[39;49m\u001b[38;5;241;43m.\u001b[39;49m\u001b[43mfunction_type\u001b[49m\u001b[38;5;241;43m.\u001b[39;49m\u001b[43mflat_outputs\u001b[49m\u001b[43m)\u001b[49m\u001b[43m,\u001b[49m\n\u001b[0;32m    255\u001b[0m \u001b[43m    \u001b[49m\u001b[43m)\u001b[49m\n\u001b[0;32m    256\u001b[0m   \u001b[38;5;28;01melse\u001b[39;00m:\n\u001b[0;32m    257\u001b[0m     outputs \u001b[38;5;241m=\u001b[39m make_call_op_in_graph(\n\u001b[0;32m    258\u001b[0m         \u001b[38;5;28mself\u001b[39m,\n\u001b[0;32m    259\u001b[0m         \u001b[38;5;28mlist\u001b[39m(args),\n\u001b[0;32m    260\u001b[0m         \u001b[38;5;28mself\u001b[39m\u001b[38;5;241m.\u001b[39m_bound_context\u001b[38;5;241m.\u001b[39mfunction_call_options\u001b[38;5;241m.\u001b[39mas_attrs(),\n\u001b[0;32m    261\u001b[0m     )\n",
      "File \u001b[1;32mc:\\Anaconda\\envs\\ai\\lib\\site-packages\\tensorflow\\python\\eager\\context.py:1552\u001b[0m, in \u001b[0;36mContext.call_function\u001b[1;34m(self, name, tensor_inputs, num_outputs)\u001b[0m\n\u001b[0;32m   1550\u001b[0m cancellation_context \u001b[38;5;241m=\u001b[39m cancellation\u001b[38;5;241m.\u001b[39mcontext()\n\u001b[0;32m   1551\u001b[0m \u001b[38;5;28;01mif\u001b[39;00m cancellation_context \u001b[38;5;129;01mis\u001b[39;00m \u001b[38;5;28;01mNone\u001b[39;00m:\n\u001b[1;32m-> 1552\u001b[0m   outputs \u001b[38;5;241m=\u001b[39m \u001b[43mexecute\u001b[49m\u001b[38;5;241;43m.\u001b[39;49m\u001b[43mexecute\u001b[49m\u001b[43m(\u001b[49m\n\u001b[0;32m   1553\u001b[0m \u001b[43m      \u001b[49m\u001b[43mname\u001b[49m\u001b[38;5;241;43m.\u001b[39;49m\u001b[43mdecode\u001b[49m\u001b[43m(\u001b[49m\u001b[38;5;124;43m\"\u001b[39;49m\u001b[38;5;124;43mutf-8\u001b[39;49m\u001b[38;5;124;43m\"\u001b[39;49m\u001b[43m)\u001b[49m\u001b[43m,\u001b[49m\n\u001b[0;32m   1554\u001b[0m \u001b[43m      \u001b[49m\u001b[43mnum_outputs\u001b[49m\u001b[38;5;241;43m=\u001b[39;49m\u001b[43mnum_outputs\u001b[49m\u001b[43m,\u001b[49m\n\u001b[0;32m   1555\u001b[0m \u001b[43m      \u001b[49m\u001b[43minputs\u001b[49m\u001b[38;5;241;43m=\u001b[39;49m\u001b[43mtensor_inputs\u001b[49m\u001b[43m,\u001b[49m\n\u001b[0;32m   1556\u001b[0m \u001b[43m      \u001b[49m\u001b[43mattrs\u001b[49m\u001b[38;5;241;43m=\u001b[39;49m\u001b[43mattrs\u001b[49m\u001b[43m,\u001b[49m\n\u001b[0;32m   1557\u001b[0m \u001b[43m      \u001b[49m\u001b[43mctx\u001b[49m\u001b[38;5;241;43m=\u001b[39;49m\u001b[38;5;28;43mself\u001b[39;49m\u001b[43m,\u001b[49m\n\u001b[0;32m   1558\u001b[0m \u001b[43m  \u001b[49m\u001b[43m)\u001b[49m\n\u001b[0;32m   1559\u001b[0m \u001b[38;5;28;01melse\u001b[39;00m:\n\u001b[0;32m   1560\u001b[0m   outputs \u001b[38;5;241m=\u001b[39m execute\u001b[38;5;241m.\u001b[39mexecute_with_cancellation(\n\u001b[0;32m   1561\u001b[0m       name\u001b[38;5;241m.\u001b[39mdecode(\u001b[38;5;124m\"\u001b[39m\u001b[38;5;124mutf-8\u001b[39m\u001b[38;5;124m\"\u001b[39m),\n\u001b[0;32m   1562\u001b[0m       num_outputs\u001b[38;5;241m=\u001b[39mnum_outputs,\n\u001b[1;32m   (...)\u001b[0m\n\u001b[0;32m   1566\u001b[0m       cancellation_manager\u001b[38;5;241m=\u001b[39mcancellation_context,\n\u001b[0;32m   1567\u001b[0m   )\n",
      "File \u001b[1;32mc:\\Anaconda\\envs\\ai\\lib\\site-packages\\tensorflow\\python\\eager\\execute.py:53\u001b[0m, in \u001b[0;36mquick_execute\u001b[1;34m(op_name, num_outputs, inputs, attrs, ctx, name)\u001b[0m\n\u001b[0;32m     51\u001b[0m \u001b[38;5;28;01mtry\u001b[39;00m:\n\u001b[0;32m     52\u001b[0m   ctx\u001b[38;5;241m.\u001b[39mensure_initialized()\n\u001b[1;32m---> 53\u001b[0m   tensors \u001b[38;5;241m=\u001b[39m \u001b[43mpywrap_tfe\u001b[49m\u001b[38;5;241;43m.\u001b[39;49m\u001b[43mTFE_Py_Execute\u001b[49m\u001b[43m(\u001b[49m\u001b[43mctx\u001b[49m\u001b[38;5;241;43m.\u001b[39;49m\u001b[43m_handle\u001b[49m\u001b[43m,\u001b[49m\u001b[43m \u001b[49m\u001b[43mdevice_name\u001b[49m\u001b[43m,\u001b[49m\u001b[43m \u001b[49m\u001b[43mop_name\u001b[49m\u001b[43m,\u001b[49m\n\u001b[0;32m     54\u001b[0m \u001b[43m                                      \u001b[49m\u001b[43minputs\u001b[49m\u001b[43m,\u001b[49m\u001b[43m \u001b[49m\u001b[43mattrs\u001b[49m\u001b[43m,\u001b[49m\u001b[43m \u001b[49m\u001b[43mnum_outputs\u001b[49m\u001b[43m)\u001b[49m\n\u001b[0;32m     55\u001b[0m \u001b[38;5;28;01mexcept\u001b[39;00m core\u001b[38;5;241m.\u001b[39m_NotOkStatusException \u001b[38;5;28;01mas\u001b[39;00m e:\n\u001b[0;32m     56\u001b[0m   \u001b[38;5;28;01mif\u001b[39;00m name \u001b[38;5;129;01mis\u001b[39;00m \u001b[38;5;129;01mnot\u001b[39;00m \u001b[38;5;28;01mNone\u001b[39;00m:\n",
      "\u001b[1;31mKeyboardInterrupt\u001b[0m: "
     ]
    }
   ],
   "source": [
    "history = model.fit(\n",
    "  train_ds,\n",
    "  validation_data=val_ds,\n",
    "  epochs=10\n",
    ")"
   ]
  },
  {
   "cell_type": "code",
   "execution_count": 61,
   "metadata": {},
   "outputs": [
    {
     "name": "stderr",
     "output_type": "stream",
     "text": [
      "C:\\Users\\Nada Ayman\\AppData\\Local\\Temp\\ipykernel_11548\\1526215721.py:1: UserWarning: `input_shape` is undefined or non-square, or `rows` is not in [96, 128, 160, 192, 224]. Weights for input shape (224, 224) will be loaded as the default.\n",
      "  base_model = tf.keras.applications.MobileNetV2(input_shape=(SIZE, SIZE, 3),\n"
     ]
    },
    {
     "name": "stdout",
     "output_type": "stream",
     "text": [
      "Downloading data from https://storage.googleapis.com/tensorflow/keras-applications/mobilenet_v2/mobilenet_v2_weights_tf_dim_ordering_tf_kernels_1.0_224_no_top.h5\n",
      "\u001b[1m9406464/9406464\u001b[0m \u001b[32m━━━━━━━━━━━━━━━━━━━━\u001b[0m\u001b[37m\u001b[0m \u001b[1m2s\u001b[0m 0us/step\n"
     ]
    }
   ],
   "source": [
    "base_model = tf.keras.applications.MobileNetV2(input_shape=(SIZE, SIZE, 3),\n",
    "                                               include_top=False,\n",
    "                                               weights='imagenet')"
   ]
  },
  {
   "cell_type": "code",
   "execution_count": 62,
   "metadata": {},
   "outputs": [],
   "source": [
    "base_model.compile(optimizer='adam',\n",
    "              loss='categorical_crossentropy',\n",
    "              metrics=['accuracy'])"
   ]
  },
  {
   "cell_type": "code",
   "execution_count": 63,
   "metadata": {},
   "outputs": [
    {
     "name": "stdout",
     "output_type": "stream",
     "text": [
      "Epoch 1/10\n",
      "\u001b[1m544/544\u001b[0m \u001b[32m━━━━━━━━━━━━━━━━━━━━\u001b[0m\u001b[37m\u001b[0m \u001b[1m199s\u001b[0m 366ms/step - accuracy: 0.7485 - loss: 0.7393 - val_accuracy: 0.8333 - val_loss: 0.5250\n",
      "Epoch 2/10\n",
      "\u001b[1m544/544\u001b[0m \u001b[32m━━━━━━━━━━━━━━━━━━━━\u001b[0m\u001b[37m\u001b[0m \u001b[1m193s\u001b[0m 354ms/step - accuracy: 0.7773 - loss: 0.6488 - val_accuracy: 0.8603 - val_loss: 0.4443\n",
      "Epoch 3/10\n",
      "\u001b[1m544/544\u001b[0m \u001b[32m━━━━━━━━━━━━━━━━━━━━\u001b[0m\u001b[37m\u001b[0m \u001b[1m245s\u001b[0m 451ms/step - accuracy: 0.8042 - loss: 0.5756 - val_accuracy: 0.8701 - val_loss: 0.4004\n",
      "Epoch 4/10\n",
      "\u001b[1m544/544\u001b[0m \u001b[32m━━━━━━━━━━━━━━━━━━━━\u001b[0m\u001b[37m\u001b[0m \u001b[1m243s\u001b[0m 446ms/step - accuracy: 0.8264 - loss: 0.5113 - val_accuracy: 0.8945 - val_loss: 0.3354\n",
      "Epoch 5/10\n",
      "\u001b[1m544/544\u001b[0m \u001b[32m━━━━━━━━━━━━━━━━━━━━\u001b[0m\u001b[37m\u001b[0m \u001b[1m261s\u001b[0m 479ms/step - accuracy: 0.8434 - loss: 0.4543 - val_accuracy: 0.9128 - val_loss: 0.2883\n",
      "Epoch 6/10\n",
      "\u001b[1m544/544\u001b[0m \u001b[32m━━━━━━━━━━━━━━━━━━━━\u001b[0m\u001b[37m\u001b[0m \u001b[1m206s\u001b[0m 378ms/step - accuracy: 0.8590 - loss: 0.4096 - val_accuracy: 0.9125 - val_loss: 0.2789\n",
      "Epoch 7/10\n",
      "\u001b[1m544/544\u001b[0m \u001b[32m━━━━━━━━━━━━━━━━━━━━\u001b[0m\u001b[37m\u001b[0m \u001b[1m237s\u001b[0m 436ms/step - accuracy: 0.8733 - loss: 0.3622 - val_accuracy: 0.9229 - val_loss: 0.2441\n",
      "Epoch 8/10\n",
      "\u001b[1m544/544\u001b[0m \u001b[32m━━━━━━━━━━━━━━━━━━━━\u001b[0m\u001b[37m\u001b[0m \u001b[1m237s\u001b[0m 435ms/step - accuracy: 0.8850 - loss: 0.3266 - val_accuracy: 0.9317 - val_loss: 0.2172\n",
      "Epoch 9/10\n",
      "\u001b[1m544/544\u001b[0m \u001b[32m━━━━━━━━━━━━━━━━━━━━\u001b[0m\u001b[37m\u001b[0m \u001b[1m230s\u001b[0m 422ms/step - accuracy: 0.8903 - loss: 0.3108 - val_accuracy: 0.9376 - val_loss: 0.2003\n",
      "Epoch 10/10\n",
      "\u001b[1m544/544\u001b[0m \u001b[32m━━━━━━━━━━━━━━━━━━━━\u001b[0m\u001b[37m\u001b[0m \u001b[1m224s\u001b[0m 412ms/step - accuracy: 0.9011 - loss: 0.2811 - val_accuracy: 0.9459 - val_loss: 0.1723\n"
     ]
    }
   ],
   "source": [
    "# history = model.fit(train_ds, epochs=10, validation_data=val_ds)"
   ]
  },
  {
   "cell_type": "code",
   "execution_count": 66,
   "metadata": {},
   "outputs": [
    {
     "name": "stderr",
     "output_type": "stream",
     "text": [
      "WARNING:absl:You are saving your model as an HDF5 file via `model.save()` or `keras.saving.save_model(model)`. This file format is considered legacy. We recommend using instead the native Keras format, e.g. `model.save('my_model.keras')` or `keras.saving.save_model(model, 'my_model.keras')`. \n"
     ]
    }
   ],
   "source": [
    "model.save('model_2.h5')"
   ]
  },
  {
   "cell_type": "code",
   "execution_count": 2,
   "metadata": {},
   "outputs": [
    {
     "ename": "NameError",
     "evalue": "name 'test_ds' is not defined",
     "output_type": "error",
     "traceback": [
      "\u001b[1;31m---------------------------------------------------------------------------\u001b[0m",
      "\u001b[1;31mNameError\u001b[0m                                 Traceback (most recent call last)",
      "Cell \u001b[1;32mIn[2], line 1\u001b[0m\n\u001b[1;32m----> 1\u001b[0m \u001b[38;5;28;01mfor\u001b[39;00m x, y \u001b[38;5;129;01min\u001b[39;00m \u001b[43mtest_ds\u001b[49m\u001b[38;5;241m.\u001b[39mtake(\u001b[38;5;241m1\u001b[39m):\n\u001b[0;32m      2\u001b[0m     \u001b[38;5;28mprint\u001b[39m(x\u001b[38;5;241m.\u001b[39mshape)\n",
      "\u001b[1;31mNameError\u001b[0m: name 'test_ds' is not defined"
     ]
    }
   ],
   "source": [
    "for x, y in test_ds.take(1):\n",
    "    print(x.shape)"
   ]
  },
  {
   "cell_type": "code",
   "execution_count": 76,
   "metadata": {},
   "outputs": [
    {
     "data": {
      "text/plain": [
       "<tf.Tensor: shape=(28, 64, 64, 3), dtype=float32, numpy=\n",
       "array([[[[  1.0117188 ,   0.6953125 , 225.34766   ],\n",
       "         [  8.921875  ,   8.3359375 , 182.41016   ],\n",
       "         [ 12.046875  ,   9.605469  , 183.04688   ],\n",
       "         ...,\n",
       "         [ 14.980469  ,   9.917969  , 183.63281   ],\n",
       "         [ 12.1640625 ,   8.328125  , 184.94922   ],\n",
       "         [  7.84375   ,   8.105469  , 204.15234   ]],\n",
       "\n",
       "        [[ 13.113281  ,  14.050781  , 182.14844   ],\n",
       "         [159.09375   , 138.1289    , 108.53125   ],\n",
       "         [139.9336    , 121.01172   ,  98.05859   ],\n",
       "         ...,\n",
       "         [127.03516   , 106.23828   ,  93.60156   ],\n",
       "         [113.609375  ,  94.38672   ,  87.609375  ],\n",
       "         [ 89.54297   ,  78.09375   , 150.28125   ]],\n",
       "\n",
       "        [[  9.558594  ,  10.96875   , 186.34766   ],\n",
       "         [ 95.89453   ,  96.38672   ,  84.94141   ],\n",
       "         [109.50781   , 110.03516   ,  99.07031   ],\n",
       "         ...,\n",
       "         [120.359375  , 102.5       ,  86.5       ],\n",
       "         [123.52344   , 105.59375   ,  90.58594   ],\n",
       "         [110.87109   , 100.34766   , 175.39453   ]],\n",
       "\n",
       "        ...,\n",
       "\n",
       "        [[  8.066406  ,  11.566406  , 188.22656   ],\n",
       "         [ 73.875     ,  75.93359   ,  70.81641   ],\n",
       "         [ 75.25781   ,  82.75781   ,  75.00781   ],\n",
       "         ...,\n",
       "         [140.125     , 134.875     , 124.60547   ],\n",
       "         [138.4336    , 130.69531   , 119.8125    ],\n",
       "         [123.79297   , 120.39453   , 199.73438   ]],\n",
       "\n",
       "        [[  7.703125  ,  10.667969  , 182.95312   ],\n",
       "         [ 71.58984   ,  74.625     ,  80.59766   ],\n",
       "         [ 72.9375    ,  82.80469   ,  78.99219   ],\n",
       "         ...,\n",
       "         [134.03906   , 126.78516   , 124.09375   ],\n",
       "         [138.35156   , 127.69141   , 125.63672   ],\n",
       "         [119.96484   , 117.015625  , 200.0625    ]],\n",
       "\n",
       "        [[ 11.863281  ,  12.390625  , 212.25      ],\n",
       "         [ 66.61328   ,  67.64844   , 145.22266   ],\n",
       "         [ 66.546875  ,  72.12891   , 147.09766   ],\n",
       "         ...,\n",
       "         [127.76172   , 126.984375  , 196.92969   ],\n",
       "         [123.47656   , 123.35156   , 192.77344   ],\n",
       "         [114.58984   , 118.96875   , 243.59766   ]]],\n",
       "\n",
       "\n",
       "       [[[  1.5234375 ,   0.65625   , 228.2539    ],\n",
       "         [  9.535156  ,  10.386719  , 178.44922   ],\n",
       "         [ 10.6484375 ,  10.625     , 183.69531   ],\n",
       "         ...,\n",
       "         [ 23.578125  ,  17.992188  , 190.80469   ],\n",
       "         [ 19.558594  ,  15.1953125 , 182.98047   ],\n",
       "         [ 12.144531  ,  10.269531  , 206.        ]],\n",
       "\n",
       "        [[  9.859375  ,   7.0117188 , 175.85938   ],\n",
       "         [ 66.546875  ,  51.171875  ,  29.011719  ],\n",
       "         [ 71.11719   ,  53.546875  ,  33.85547   ],\n",
       "         ...,\n",
       "         [193.4414    , 176.8164    , 154.3789    ],\n",
       "         [199.89844   , 180.9336    , 166.95312   ],\n",
       "         [177.96484   , 166.27734   , 229.23828   ]],\n",
       "\n",
       "        [[ 12.7578125 ,  10.113281  , 182.66016   ],\n",
       "         [ 76.85547   ,  58.226562  ,  43.60547   ],\n",
       "         [ 72.17969   ,  56.289062  ,  43.546875  ],\n",
       "         ...,\n",
       "         [208.88281   , 189.7461    , 171.30078   ],\n",
       "         [205.98438   , 186.60547   , 169.66016   ],\n",
       "         [189.19531   , 177.02734   , 248.24219   ]],\n",
       "\n",
       "        ...,\n",
       "\n",
       "        [[ 12.109375  ,  14.046875  , 187.73438   ],\n",
       "         [146.63672   , 142.26562   , 139.14062   ],\n",
       "         [148.85547   , 150.82031   , 141.79297   ],\n",
       "         ...,\n",
       "         [156.02734   , 146.33984   , 144.82031   ],\n",
       "         [154.72656   , 145.10156   , 140.53906   ],\n",
       "         [140.78906   , 130.22656   , 215.73047   ]],\n",
       "\n",
       "        [[  8.113281  ,   9.8125    , 187.8711    ],\n",
       "         [141.44531   , 139.48047   , 145.5       ],\n",
       "         [140.60938   , 145.61328   , 142.54297   ],\n",
       "         ...,\n",
       "         [147.25781   , 142.44531   , 139.38281   ],\n",
       "         [143.03516   , 141.9375    , 131.84766   ],\n",
       "         [134.65234   , 126.74219   , 207.66406   ]],\n",
       "\n",
       "        [[  8.363281  ,  10.3671875 , 209.92188   ],\n",
       "         [132.84766   , 131.03516   , 209.16016   ],\n",
       "         [132.04297   , 133.5039    , 212.86328   ],\n",
       "         ...,\n",
       "         [136.39844   , 130.33594   , 211.13281   ],\n",
       "         [131.29688   , 127.21094   , 208.35938   ],\n",
       "         [121.60547   , 116.859375  , 250.625     ]]],\n",
       "\n",
       "\n",
       "       [[[  1.6015625 ,   2.4335938 , 225.64453   ],\n",
       "         [  7.0429688 ,  10.2578125 , 176.59375   ],\n",
       "         [ 13.2578125 ,   8.878906  , 180.95312   ],\n",
       "         ...,\n",
       "         [ 22.925781  ,  17.339844  , 190.23828   ],\n",
       "         [ 14.90625   ,  14.46875   , 181.30469   ],\n",
       "         [ 11.152344  ,  11.519531  , 204.19922   ]],\n",
       "\n",
       "        [[ 13.246094  ,   8.9375    , 178.77344   ],\n",
       "         [ 70.41406   ,  55.558594  ,  41.503906  ],\n",
       "         [ 78.91406   ,  57.164062  ,  46.035156  ],\n",
       "         ...,\n",
       "         [203.47656   , 187.04688   , 166.72266   ],\n",
       "         [202.57422   , 183.60938   , 170.35938   ],\n",
       "         [191.92578   , 179.67578   , 243.5625    ]],\n",
       "\n",
       "        [[ 13.15625   ,  11.421875  , 180.66016   ],\n",
       "         [ 81.37891   ,  62.871094  ,  47.6875    ],\n",
       "         [ 84.22266   ,  62.679688  ,  52.867188  ],\n",
       "         ...,\n",
       "         [221.08594   , 203.8711    , 183.8711    ],\n",
       "         [216.35938   , 194.7461    , 174.42188   ],\n",
       "         [201.02344   , 184.54297   , 250.22656   ]],\n",
       "\n",
       "        ...,\n",
       "\n",
       "        [[ 11.609375  ,  13.128906  , 190.54297   ],\n",
       "         [147.0664    , 148.69531   , 143.32031   ],\n",
       "         [151.67188   , 155.99219   , 151.66016   ],\n",
       "         ...,\n",
       "         [162.75      , 153.22266   , 152.85547   ],\n",
       "         [156.67188   , 152.73828   , 147.16406   ],\n",
       "         [146.26562   , 141.1211    , 228.28906   ]],\n",
       "\n",
       "        [[  8.378906  ,  10.683594  , 182.38281   ],\n",
       "         [143.11719   , 144.49219   , 150.01953   ],\n",
       "         [145.48828   , 152.28906   , 150.41406   ],\n",
       "         ...,\n",
       "         [157.51562   , 147.39844   , 144.19922   ],\n",
       "         [155.35156   , 148.83203   , 142.82422   ],\n",
       "         [144.91406   , 136.07812   , 221.16406   ]],\n",
       "\n",
       "        [[  8.082031  ,   8.3359375 , 207.70312   ],\n",
       "         [135.55469   , 137.61719   , 217.36719   ],\n",
       "         [138.69922   , 143.16016   , 219.53906   ],\n",
       "         ...,\n",
       "         [143.14844   , 138.60156   , 219.10938   ],\n",
       "         [138.82422   , 139.07422   , 218.17188   ],\n",
       "         [127.48828   , 123.98828   , 251.89844   ]]],\n",
       "\n",
       "\n",
       "       ...,\n",
       "\n",
       "\n",
       "       [[[  0.6171875 ,   0.953125  , 223.26953   ],\n",
       "         [  9.636719  ,   9.050781  , 183.5625    ],\n",
       "         [  9.949219  ,  12.7421875 , 186.97656   ],\n",
       "         ...,\n",
       "         [ 12.066406  ,  12.0625    , 184.79297   ],\n",
       "         [ 16.621094  ,  12.5859375 , 190.8711    ],\n",
       "         [ 10.824219  ,  11.144531  , 211.1914    ]],\n",
       "\n",
       "        [[  5.4296875 ,  13.3671875 , 184.8164    ],\n",
       "         [ 97.31641   , 112.50391   , 104.94141   ],\n",
       "         [103.76172   , 113.765625  , 107.62891   ],\n",
       "         ...,\n",
       "         [ 61.789062  ,  53.9375    ,  58.179688  ],\n",
       "         [ 65.43359   ,  55.164062  ,  67.74609   ],\n",
       "         [ 56.851562  ,  54.86328   , 132.58594   ]],\n",
       "\n",
       "        [[  8.1328125 ,  16.105469  , 190.07031   ],\n",
       "         [135.8711    , 159.25      , 153.8711    ],\n",
       "         [133.54688   , 159.51953   , 158.17969   ],\n",
       "         ...,\n",
       "         [ 76.859375  ,  68.21484   ,  64.88281   ],\n",
       "         [ 74.08203   ,  62.390625  ,  67.13672   ],\n",
       "         [ 55.523438  ,  50.566406  , 132.13672   ]],\n",
       "\n",
       "        ...,\n",
       "\n",
       "        [[  0.73046875,   9.953125  , 191.24219   ],\n",
       "         [ 11.558594  ,  24.875     ,  36.757812  ],\n",
       "         [ 15.199219  ,  27.066406  ,  45.316406  ],\n",
       "         ...,\n",
       "         [107.58984   , 110.53516   ,  86.90234   ],\n",
       "         [110.12109   , 107.69531   ,  90.25781   ],\n",
       "         [ 97.984375  , 101.01953   , 169.29297   ]],\n",
       "\n",
       "        [[  7.3164062 ,   9.1171875 , 188.71484   ],\n",
       "         [ 36.4375    ,  36.695312  ,  50.160156  ],\n",
       "         [ 25.1875    ,  32.382812  ,  45.878906  ],\n",
       "         ...,\n",
       "         [103.828125  , 106.26172   ,  90.640625  ],\n",
       "         [109.984375  , 105.39453   , 101.609375  ],\n",
       "         [ 94.96484   ,  96.83984   , 166.52344   ]],\n",
       "\n",
       "        [[  4.4140625 ,   4.2304688 , 206.47266   ],\n",
       "         [  6.5       ,   6.8007812 ,  91.25      ],\n",
       "         [  2.4804688 ,   6.9375    ,  89.65625   ],\n",
       "         ...,\n",
       "         [ 92.52734   ,  98.75391   , 160.6914    ],\n",
       "         [ 93.85156   ,  97.90234   , 167.44922   ],\n",
       "         [ 82.78125   ,  90.16406   , 208.41406   ]]],\n",
       "\n",
       "\n",
       "       [[[  1.3671875 ,   3.5078125 , 226.84375   ],\n",
       "         [  8.160156  ,   9.363281  , 179.25      ],\n",
       "         [ 15.4140625 ,   7.0195312 , 180.73438   ],\n",
       "         ...,\n",
       "         [ 19.539062  ,  15.269531  , 187.14062   ],\n",
       "         [ 16.980469  ,  13.730469  , 183.36719   ],\n",
       "         [ 11.980469  ,   9.285156  , 206.72266   ]],\n",
       "\n",
       "        [[ 10.5078125 ,  11.761719  , 179.94922   ],\n",
       "         [ 51.3125    ,  47.152344  ,  27.027344  ],\n",
       "         [ 62.13672   ,  46.382812  ,  31.492188  ],\n",
       "         ...,\n",
       "         [186.84375   , 171.14844   , 150.02734   ],\n",
       "         [187.86328   , 170.59375   , 154.14062   ],\n",
       "         [169.60938   , 157.7461    , 221.97266   ]],\n",
       "\n",
       "        [[ 12.8046875 ,   8.824219  , 182.08203   ],\n",
       "         [ 69.24609   ,  49.308594  ,  34.617188  ],\n",
       "         [ 62.375     ,  49.        ,  37.472656  ],\n",
       "         ...,\n",
       "         [199.71094   , 181.3789    , 161.78906   ],\n",
       "         [194.69531   , 176.07812   , 159.6875    ],\n",
       "         [179.        , 166.83203   , 237.34375   ]],\n",
       "\n",
       "        ...,\n",
       "\n",
       "        [[ 13.828125  ,  13.953125  , 191.55469   ],\n",
       "         [132.76172   , 133.01562   , 128.32812   ],\n",
       "         [135.83203   , 139.89453   , 132.44531   ],\n",
       "         ...,\n",
       "         [146.65234   , 139.91016   , 138.25      ],\n",
       "         [144.98828   , 135.9375    , 130.17578   ],\n",
       "         [128.98047   , 126.515625  , 209.89844   ]],\n",
       "\n",
       "        [[  7.6132812 ,   8.8515625 , 181.44922   ],\n",
       "         [128.44531   , 129.41016   , 134.00781   ],\n",
       "         [131.0586    , 136.11328   , 130.6211    ],\n",
       "         ...,\n",
       "         [140.26953   , 133.83203   , 129.14453   ],\n",
       "         [140.85938   , 133.60938   , 124.484375  ],\n",
       "         [124.40234   , 123.21484   , 199.78906   ]],\n",
       "\n",
       "        [[  7.3320312 ,   8.984375  , 209.65234   ],\n",
       "         [122.13672   , 123.171875  , 199.98438   ],\n",
       "         [120.73047   , 125.125     , 199.17188   ],\n",
       "         ...,\n",
       "         [131.85156   , 125.703125  , 206.54297   ],\n",
       "         [129.27344   , 121.30078   , 202.22266   ],\n",
       "         [114.36719   , 112.74609   , 245.38281   ]]],\n",
       "\n",
       "\n",
       "       [[[  0.93359375,   1.015625  , 222.53516   ],\n",
       "         [ 11.9375    ,  11.324219  , 185.92578   ],\n",
       "         [  8.5390625 ,  10.269531  , 184.91797   ],\n",
       "         ...,\n",
       "         [  9.605469  ,  10.640625  , 184.72656   ],\n",
       "         [ 14.421875  ,  10.7734375 , 188.8711    ],\n",
       "         [ 14.609375  ,  12.1171875 , 211.21094   ]],\n",
       "\n",
       "        [[  8.8828125 ,  12.082031  , 186.85547   ],\n",
       "         [ 96.86719   , 112.24219   , 106.67969   ],\n",
       "         [ 96.90625   , 110.47266   , 108.27344   ],\n",
       "         ...,\n",
       "         [ 59.996094  ,  53.433594  ,  54.128906  ],\n",
       "         [ 57.523438  ,  49.48828   ,  61.460938  ],\n",
       "         [ 54.347656  ,  56.035156  , 128.66016   ]],\n",
       "\n",
       "        [[ 10.753906  ,  16.332031  , 191.08203   ],\n",
       "         [130.82812   , 153.6914    , 148.19531   ],\n",
       "         [125.36719   , 151.41016   , 148.32422   ],\n",
       "         ...,\n",
       "         [ 74.96484   ,  60.875     ,  60.015625  ],\n",
       "         [ 73.38281   ,  56.632812  ,  61.75      ],\n",
       "         [ 55.523438  ,  49.6875    , 132.83984   ]],\n",
       "\n",
       "        ...,\n",
       "\n",
       "        [[  4.34375   ,   8.191406  , 191.5       ],\n",
       "         [ 16.722656  ,  23.476562  ,  35.91797   ],\n",
       "         [ 23.574219  ,  27.796875  ,  44.1875    ],\n",
       "         ...,\n",
       "         [109.859375  , 109.65234   ,  96.45703   ],\n",
       "         [109.75      , 108.25391   ,  92.69141   ],\n",
       "         [ 92.65234   ,  97.08594   , 169.2539    ]],\n",
       "\n",
       "        [[  6.6523438 ,  10.839844  , 189.51172   ],\n",
       "         [ 32.32422   ,  32.242188  ,  43.63672   ],\n",
       "         [ 29.804688  ,  32.371094  ,  43.308594  ],\n",
       "         ...,\n",
       "         [105.07422   , 106.203125  ,  90.82422   ],\n",
       "         [106.84375   , 106.52344   ,  88.77344   ],\n",
       "         [ 89.46875   ,  95.28125   , 167.17969   ]],\n",
       "\n",
       "        [[  3.5859375 ,   5.109375  , 206.53906   ],\n",
       "         [  6.4609375 ,   6.3984375 ,  91.046875  ],\n",
       "         [  4.4570312 ,   3.9140625 ,  90.77344   ],\n",
       "         ...,\n",
       "         [ 92.81641   ,  95.35547   , 168.14844   ],\n",
       "         [ 92.71484   ,  98.15234   , 170.23828   ],\n",
       "         [ 82.33984   ,  90.72656   , 216.10547   ]]]], dtype=float32)>"
      ]
     },
     "execution_count": 76,
     "metadata": {},
     "output_type": "execute_result"
    }
   ],
   "source": [
    "x"
   ]
  },
  {
   "cell_type": "code",
   "execution_count": 77,
   "metadata": {},
   "outputs": [
    {
     "name": "stdout",
     "output_type": "stream",
     "text": [
      "\u001b[1m1/1\u001b[0m \u001b[32m━━━━━━━━━━━━━━━━━━━━\u001b[0m\u001b[37m\u001b[0m \u001b[1m0s\u001b[0m 230ms/step\n"
     ]
    }
   ],
   "source": [
    "predictions = model.predict(x)\n",
    "predicted_class = np.argmax(predictions, axis=1)"
   ]
  },
  {
   "cell_type": "code",
   "execution_count": 78,
   "metadata": {},
   "outputs": [
    {
     "data": {
      "text/plain": [
       "array([ 0,  1,  2,  3,  4,  5,  6,  7,  8,  9, 10, 11, 12, 13, 14, 15, 16,\n",
       "       17, 18, 19, 20, 21, 22, 23, 24, 25, 27, 28], dtype=int64)"
      ]
     },
     "execution_count": 78,
     "metadata": {},
     "output_type": "execute_result"
    }
   ],
   "source": [
    "predicted_class"
   ]
  },
  {
   "cell_type": "code",
   "execution_count": null,
   "metadata": {},
   "outputs": [],
   "source": []
  }
 ],
 "metadata": {
  "kernelspec": {
   "display_name": "ai",
   "language": "python",
   "name": "python3"
  },
  "language_info": {
   "codemirror_mode": {
    "name": "ipython",
    "version": 3
   },
   "file_extension": ".py",
   "mimetype": "text/x-python",
   "name": "python",
   "nbconvert_exporter": "python",
   "pygments_lexer": "ipython3",
   "version": "3.10.14"
  }
 },
 "nbformat": 4,
 "nbformat_minor": 2
}
